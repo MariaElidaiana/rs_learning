{
 "cells": [
  {
   "cell_type": "code",
   "execution_count": 1,
   "id": "73df449d",
   "metadata": {},
   "outputs": [],
   "source": [
    "#!usr/bin/python\n",
    "\n",
    "import netCDF4 as nc\n",
    "import numpy as np"
   ]
  },
  {
   "cell_type": "code",
   "execution_count": 2,
   "id": "81a02476",
   "metadata": {},
   "outputs": [],
   "source": [
    "#Tutorial from:\n",
    "#https://opensourceoptions.com/intro-to-netcdf-with-python-netcdf4/\n",
    "#Data from: \n",
    "#https://thredds.daac.ornl.gov/thredds/catalogs/ornldaac/Regional_and_Global_Data/DAYMET_COLLECTIONS/DAYMET_COLLECTIONS.html\n",
    "\n",
    "filename= '/Users/mariamac/Downloads/daymet_v4_prcp_monttl_na_1987.nc' #preciptation montly timeline north america 1987"
   ]
  },
  {
   "cell_type": "code",
   "execution_count": 3,
   "id": "23beafdb",
   "metadata": {},
   "outputs": [],
   "source": [
    "ds = nc.Dataset(filename)"
   ]
  },
  {
   "cell_type": "code",
   "execution_count": 4,
   "id": "a4cbe179",
   "metadata": {},
   "outputs": [
    {
     "data": {
      "text/plain": [
       "<class 'netCDF4._netCDF4.Dataset'>\n",
       "root group (NETCDF4_CLASSIC data model, file format HDF5):\n",
       "    start_year: 1987\n",
       "    source: Daymet Software Version 4.0\n",
       "    Version_software: Daymet Software Version 4.0\n",
       "    Version_data: Daymet Data Version 4.0\n",
       "    Conventions: CF-1.6\n",
       "    citation: Please see http://daymet.ornl.gov/ for current Daymet data citation information\n",
       "    references: Please see http://daymet.ornl.gov/ for current information on Daymet references\n",
       "    NCO: netCDF Operators version 4.9.3 (Homepage = http://nco.sf.net, Code = http://github.com/nco/nco)\n",
       "    dimensions(sizes): time(12), nv(2), y(8075), x(7814)\n",
       "    variables(dimensions): float32 \u001b[4mtime_bnds\u001b[0m(time,nv), int16 \u001b[4mlambert_conformal_conic\u001b[0m(), float32 \u001b[4mlat\u001b[0m(y,x), float32 \u001b[4mlon\u001b[0m(y,x), float32 \u001b[4mprcp\u001b[0m(time,y,x), float32 \u001b[4mtime\u001b[0m(time), float32 \u001b[4mx\u001b[0m(x), float32 \u001b[4my\u001b[0m(y)\n",
       "    groups: "
      ]
     },
     "execution_count": 4,
     "metadata": {},
     "output_type": "execute_result"
    }
   ],
   "source": [
    "ds"
   ]
  },
  {
   "cell_type": "code",
   "execution_count": 5,
   "id": "26510594",
   "metadata": {},
   "outputs": [
    {
     "name": "stderr",
     "output_type": "stream",
     "text": [
      "/Users/mariamac/miniconda3/envs/mariaenv/lib/python3.7/site-packages/ipykernel_launcher.py:1: DeprecationWarning: `np.bool` is a deprecated alias for the builtin `bool`. To silence this warning, use `bool` by itself. Doing this will not modify any behavior and is safe. If you specifically wanted the numpy scalar type, use `np.bool_` here.\n",
      "Deprecated in NumPy 1.20; for more details and guidance: https://numpy.org/devdocs/release/1.20.0-notes.html#deprecations\n",
      "  \"\"\"Entry point for launching an IPython kernel.\n"
     ]
    }
   ],
   "source": [
    "prcp = ds['prcp'][:]"
   ]
  },
  {
   "cell_type": "code",
   "execution_count": 6,
   "id": "d10665d3",
   "metadata": {},
   "outputs": [
    {
     "data": {
      "text/plain": [
       "masked_array(\n",
       "  data=[[4.079999923706055, 4.110000133514404, 3.879999876022339,\n",
       "         3.630000114440918, 4.279999732971191],\n",
       "        [3.740000009536743, 3.8399999141693115, 3.8999998569488525, 3.75,\n",
       "         4.329999923706055],\n",
       "        [3.929999828338623, 3.940000057220459, 3.7799999713897705,\n",
       "         3.859999895095825, 4.25],\n",
       "        [4.199999809265137, 4.079999923706055, 3.680000066757202,\n",
       "         3.880000114440918, 4.279999732971191],\n",
       "        [4.519999980926514, 4.400000095367432, 3.989999771118164,\n",
       "         3.940000057220459, 4.039999961853027]],\n",
       "  mask=[[False, False, False, False, False],\n",
       "        [False, False, False, False, False],\n",
       "        [False, False, False, False, False],\n",
       "        [False, False, False, False, False],\n",
       "        [False, False, False, False, False]],\n",
       "  fill_value=-9999.0,\n",
       "  dtype=float32)"
      ]
     },
     "execution_count": 6,
     "metadata": {},
     "output_type": "execute_result"
    }
   ],
   "source": [
    "prcp[0, 4000:4005, 4000:4005]"
   ]
  },
  {
   "cell_type": "code",
   "execution_count": 7,
   "id": "27b5271d",
   "metadata": {},
   "outputs": [
    {
     "name": "stdout",
     "output_type": "stream",
     "text": [
      "OrderedDict([('time', <class 'netCDF4._netCDF4.Dimension'> (unlimited): name = 'time', size = 12\n",
      "), ('nv', <class 'netCDF4._netCDF4.Dimension'>: name = 'nv', size = 2\n",
      "), ('y', <class 'netCDF4._netCDF4.Dimension'>: name = 'y', size = 8075\n",
      "), ('x', <class 'netCDF4._netCDF4.Dimension'>: name = 'x', size = 7814\n",
      ")])\n"
     ]
    },
    {
     "name": "stderr",
     "output_type": "stream",
     "text": [
      "/Users/mariamac/miniconda3/envs/mariaenv/lib/python3.7/site-packages/ipykernel_launcher.py:1: DeprecationWarning: tostring() is deprecated. Use tobytes() instead.\n",
      "  \"\"\"Entry point for launching an IPython kernel.\n"
     ]
    }
   ],
   "source": [
    "print(ds.dimensions)"
   ]
  },
  {
   "cell_type": "code",
   "execution_count": 8,
   "id": "76314ae5",
   "metadata": {},
   "outputs": [
    {
     "name": "stdout",
     "output_type": "stream",
     "text": [
      "<class 'netCDF4._netCDF4.Dimension'> (unlimited): name = 'time', size = 12\n",
      "\n",
      "<class 'netCDF4._netCDF4.Dimension'>: name = 'nv', size = 2\n",
      "\n",
      "<class 'netCDF4._netCDF4.Dimension'>: name = 'y', size = 8075\n",
      "\n",
      "<class 'netCDF4._netCDF4.Dimension'>: name = 'x', size = 7814\n",
      "\n"
     ]
    },
    {
     "name": "stderr",
     "output_type": "stream",
     "text": [
      "/Users/mariamac/miniconda3/envs/mariaenv/lib/python3.7/site-packages/ipykernel_launcher.py:2: DeprecationWarning: tostring() is deprecated. Use tobytes() instead.\n",
      "  \n"
     ]
    }
   ],
   "source": [
    "for dim in ds.dimensions.values():\n",
    "    print(dim)"
   ]
  },
  {
   "cell_type": "code",
   "execution_count": 9,
   "id": "5e52b130",
   "metadata": {},
   "outputs": [
    {
     "name": "stdout",
     "output_type": "stream",
     "text": [
      "OrderedDict([('time_bnds', <class 'netCDF4._netCDF4.Variable'>\n",
      "float32 time_bnds(time, nv)\n",
      "unlimited dimensions: time\n",
      "current shape = (12, 2)\n",
      "filling on, default _FillValue of 9.969209968386869e+36 used\n",
      "), ('lambert_conformal_conic', <class 'netCDF4._netCDF4.Variable'>\n",
      "int16 lambert_conformal_conic()\n",
      "    grid_mapping_name: lambert_conformal_conic\n",
      "    longitude_of_central_meridian: -100.0\n",
      "    latitude_of_projection_origin: 42.5\n",
      "    false_easting: 0.0\n",
      "    false_northing: 0.0\n",
      "    standard_parallel: [25. 60.]\n",
      "    semi_major_axis: 6378137.0\n",
      "    inverse_flattening: 298.257223563\n",
      "unlimited dimensions: \n",
      "current shape = ()\n",
      "filling on, default _FillValue of -32767 used\n",
      "), ('lat', <class 'netCDF4._netCDF4.Variable'>\n",
      "float32 lat(y, x)\n",
      "    units: degrees_north\n",
      "    long_name: latitude coordinate\n",
      "    standard_name: latitude\n",
      "unlimited dimensions: \n",
      "current shape = (8075, 7814)\n",
      "filling on, default _FillValue of 9.969209968386869e+36 used\n",
      "), ('lon', <class 'netCDF4._netCDF4.Variable'>\n",
      "float32 lon(y, x)\n",
      "    units: degrees_east\n",
      "    long_name: longitude coordinate\n",
      "    standard_name: longitude\n",
      "unlimited dimensions: \n",
      "current shape = (8075, 7814)\n",
      "filling on, default _FillValue of 9.969209968386869e+36 used\n",
      "), ('prcp', <class 'netCDF4._netCDF4.Variable'>\n",
      "float32 prcp(time, y, x)\n",
      "    _FillValue: -9999.0\n",
      "    missing_value: -9999.0\n",
      "    coordinates: lat lon\n",
      "    grid_mapping: lambert_conformal_conic\n",
      "    cell_methods: area: mean time: sum within days time: sum over days\n",
      "    units: mm\n",
      "    long_name: monthly total precipitation\n",
      "unlimited dimensions: time\n",
      "current shape = (12, 8075, 7814)\n",
      "filling on), ('time', <class 'netCDF4._netCDF4.Variable'>\n",
      "float32 time(time)\n",
      "    standard_name: time\n",
      "    calendar: standard\n",
      "    units: days since 1950-01-01 00:00:00\n",
      "    bounds: time_bnds\n",
      "    long_name: 24-hour day based on local time\n",
      "unlimited dimensions: time\n",
      "current shape = (12,)\n",
      "filling on, default _FillValue of 9.969209968386869e+36 used\n",
      "), ('x', <class 'netCDF4._netCDF4.Variable'>\n",
      "float32 x(x)\n",
      "    units: m\n",
      "    long_name: x coordinate of projection\n",
      "    standard_name: projection_x_coordinate\n",
      "unlimited dimensions: \n",
      "current shape = (7814,)\n",
      "filling on, default _FillValue of 9.969209968386869e+36 used\n",
      "), ('y', <class 'netCDF4._netCDF4.Variable'>\n",
      "float32 y(y)\n",
      "    units: m\n",
      "    long_name: y coordinate of projection\n",
      "    standard_name: projection_y_coordinate\n",
      "unlimited dimensions: \n",
      "current shape = (8075,)\n",
      "filling on, default _FillValue of 9.969209968386869e+36 used\n",
      ")])\n"
     ]
    },
    {
     "name": "stderr",
     "output_type": "stream",
     "text": [
      "/Users/mariamac/miniconda3/envs/mariaenv/lib/python3.7/site-packages/ipykernel_launcher.py:1: DeprecationWarning: tostring() is deprecated. Use tobytes() instead.\n",
      "  \"\"\"Entry point for launching an IPython kernel.\n"
     ]
    }
   ],
   "source": [
    "print(ds.variables)"
   ]
  },
  {
   "cell_type": "code",
   "execution_count": 10,
   "id": "08e427c9",
   "metadata": {},
   "outputs": [
    {
     "name": "stdout",
     "output_type": "stream",
     "text": [
      "<class 'netCDF4._netCDF4.Variable'>\n",
      "float32 time(time)\n",
      "    standard_name: time\n",
      "    calendar: standard\n",
      "    units: days since 1950-01-01 00:00:00\n",
      "    bounds: time_bnds\n",
      "    long_name: 24-hour day based on local time\n",
      "unlimited dimensions: time\n",
      "current shape = (12,)\n",
      "filling on, default _FillValue of 9.969209968386869e+36 used\n",
      "\n"
     ]
    },
    {
     "name": "stderr",
     "output_type": "stream",
     "text": [
      "/Users/mariamac/miniconda3/envs/mariaenv/lib/python3.7/site-packages/ipykernel_launcher.py:1: DeprecationWarning: tostring() is deprecated. Use tobytes() instead.\n",
      "  \"\"\"Entry point for launching an IPython kernel.\n"
     ]
    }
   ],
   "source": [
    "print(ds.variables['time'])"
   ]
  },
  {
   "cell_type": "code",
   "execution_count": 11,
   "id": "30024609",
   "metadata": {},
   "outputs": [
    {
     "name": "stdout",
     "output_type": "stream",
     "text": [
      "OrderedDict([('start_year', 1987), ('source', 'Daymet Software Version 4.0'), ('Version_software', 'Daymet Software Version 4.0'), ('Version_data', 'Daymet Data Version 4.0'), ('Conventions', 'CF-1.6'), ('citation', 'Please see http://daymet.ornl.gov/ for current Daymet data citation information'), ('references', 'Please see http://daymet.ornl.gov/ for current information on Daymet references'), ('NCO', 'netCDF Operators version 4.9.3 (Homepage = http://nco.sf.net, Code = http://github.com/nco/nco)')])\n"
     ]
    },
    {
     "name": "stderr",
     "output_type": "stream",
     "text": [
      "/Users/mariamac/miniconda3/envs/mariaenv/lib/python3.7/site-packages/ipykernel_launcher.py:1: DeprecationWarning: tostring() is deprecated. Use tobytes() instead.\n",
      "  \"\"\"Entry point for launching an IPython kernel.\n"
     ]
    }
   ],
   "source": [
    "print(ds.__dict__)"
   ]
  },
  {
   "cell_type": "code",
   "execution_count": 12,
   "id": "6bd210c6",
   "metadata": {},
   "outputs": [
    {
     "name": "stdout",
     "output_type": "stream",
     "text": [
      "1987\n"
     ]
    },
    {
     "name": "stderr",
     "output_type": "stream",
     "text": [
      "/Users/mariamac/miniconda3/envs/mariaenv/lib/python3.7/site-packages/ipykernel_launcher.py:1: DeprecationWarning: tostring() is deprecated. Use tobytes() instead.\n",
      "  \"\"\"Entry point for launching an IPython kernel.\n"
     ]
    }
   ],
   "source": [
    "print(ds.__dict__['start_year'])"
   ]
  },
  {
   "cell_type": "code",
   "execution_count": null,
   "id": "c68eaf50",
   "metadata": {},
   "outputs": [],
   "source": []
  }
 ],
 "metadata": {
  "kernelspec": {
   "display_name": "Python 3",
   "language": "python",
   "name": "python3"
  },
  "language_info": {
   "codemirror_mode": {
    "name": "ipython",
    "version": 3
   },
   "file_extension": ".py",
   "mimetype": "text/x-python",
   "name": "python",
   "nbconvert_exporter": "python",
   "pygments_lexer": "ipython3",
   "version": "3.7.7"
  }
 },
 "nbformat": 4,
 "nbformat_minor": 5
}
